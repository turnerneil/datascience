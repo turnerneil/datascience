{
 "cells": [
  {
   "cell_type": "code",
   "execution_count": 12,
   "metadata": {},
   "outputs": [],
   "source": [
    "import numpy as np"
   ]
  },
  {
   "cell_type": "markdown",
   "metadata": {},
   "source": [
    "## Matrix\n",
    "Create a 2 by 2 augmented matrix as an ndarray object:"
   ]
  },
  {
   "cell_type": "code",
   "execution_count": 26,
   "metadata": {},
   "outputs": [
    {
     "name": "stdout",
     "output_type": "stream",
     "text": [
      "[[ 52.   8.]\n",
      " [152.  12.]]\n"
     ]
    }
   ],
   "source": [
    "matrix_a =  np.asarray([\n",
    "    [1, 3],\n",
    "    [50, 2]  \n",
    "], dtype=np.float32)\n",
    "\n",
    "print(matrix)"
   ]
  },
  {
   "cell_type": "markdown",
   "metadata": {},
   "source": [
    "## Row Operations:\n",
    "- Swap Rows\n",
    "- Multiple Rows\n",
    "- Add Rows"
   ]
  },
  {
   "cell_type": "code",
   "execution_count": 17,
   "metadata": {},
   "outputs": [
    {
     "name": "stdout",
     "output_type": "stream",
     "text": [
      "[[52.  8.]\n",
      " [50.  2.]]\n",
      "[[ 52.   8.]\n",
      " [100.   4.]]\n",
      "[[ 52.   8.]\n",
      " [152.  12.]]\n"
     ]
    }
   ],
   "source": [
    "# Swap the second row (at index value 1) with the first row (at index value 0).\n",
    "matrix = matrix[[1,0]]\n",
    "print(matrix)\n",
    "# Multipy the second row by 2.\n",
    "matrix[1] = 2*matrix[1]\n",
    "print(matrix)\n",
    "# Add the second row to the first row.\n",
    "matrix[1] = matrix[1] + matrix[0]\n",
    "print(matrix)"
   ]
  },
  {
   "cell_type": "markdown",
   "metadata": {},
   "source": [
    "## Vectors\n",
    "Create vectors like matrix but with only one value per row, or online one row."
   ]
  },
  {
   "cell_type": "code",
   "execution_count": 20,
   "metadata": {},
   "outputs": [
    {
     "name": "stdout",
     "output_type": "stream",
     "text": [
      "[[3.]\n",
      " [0.]\n",
      " [1.]]\n"
     ]
    }
   ],
   "source": [
    "# Create a vector\n",
    "vector_one = np.asarray([\n",
    "    [3],\n",
    "    [0],\n",
    "    [1]\n",
    "], dtype=np.float32)\n",
    "print(vector_one)"
   ]
  },
  {
   "cell_type": "markdown",
   "metadata": {},
   "source": [
    "we can use the + and the - operators to perform vector addition and subtraction. In addition, we can use the * operator to multiply a vector by a scalar quantity."
   ]
  },
  {
   "cell_type": "code",
   "execution_count": 21,
   "metadata": {},
   "outputs": [
    {
     "name": "stdout",
     "output_type": "stream",
     "text": [
      "[[7.5]\n",
      " [0. ]\n",
      " [2.5]]\n"
     ]
    }
   ],
   "source": [
    "vector_two = 2*vector_one + 0.5*vector_one\n",
    "print(vector_two)"
   ]
  },
  {
   "cell_type": "markdown",
   "metadata": {},
   "source": [
    "**Compute Dot Product**\n",
    "\n",
    "the columns in the first matrix need to match the number of rows in the second matrix."
   ]
  },
  {
   "cell_type": "code",
   "execution_count": 23,
   "metadata": {},
   "outputs": [
    {
     "name": "stdout",
     "output_type": "stream",
     "text": [
      "[25.]\n"
     ]
    }
   ],
   "source": [
    "# use np.dot(ndarry, ndarry)\n",
    "vector_dp = np.dot(vector_one[:,0], vector_two)\n",
    "print(vector_dp)"
   ]
  },
  {
   "cell_type": "markdown",
   "metadata": {},
   "source": [
    "## Matrix & Vector Algebra"
   ]
  },
  {
   "cell_type": "markdown",
   "metadata": {},
   "source": [
    "**Multiply matrix and vectors:**"
   ]
  },
  {
   "cell_type": "code",
   "execution_count": 30,
   "metadata": {},
   "outputs": [
    {
     "name": "stdout",
     "output_type": "stream",
     "text": [
      "[[ 33.]\n",
      " [318.]]\n",
      "[[ 65.  33.]\n",
      " [290. 318.]]\n"
     ]
    }
   ],
   "source": [
    "matrix_a =  np.asarray([\n",
    "    [1, 3],\n",
    "    [50, 2]  \n",
    "], dtype=np.float32)\n",
    "\n",
    "vector_b =  np.asarray([\n",
    "    [6],\n",
    "    [9]  \n",
    "], dtype=np.float32)\n",
    "\n",
    "#np.dot on a matrix and a vector\n",
    "ab_product = np.dot(matrix_a, vector_b)\n",
    "print(ab_product)\n",
    "\n",
    "#np.dot on a matrix and another matrix\n",
    "ab_product = np.dot(matrix_a, matrix_b)\n",
    "print(ab_product)"
   ]
  },
  {
   "cell_type": "markdown",
   "metadata": {},
   "source": [
    "**Transpose Matrix**"
   ]
  },
  {
   "cell_type": "code",
   "execution_count": 31,
   "metadata": {},
   "outputs": [
    {
     "name": "stdout",
     "output_type": "stream",
     "text": [
      "[[ 1. 50.]\n",
      " [ 3.  2.]]\n"
     ]
    }
   ],
   "source": [
    "tanspose_a = np.transpose(matrix_a)\n",
    "print(tanspose_a)"
   ]
  },
  {
   "cell_type": "markdown",
   "metadata": {},
   "source": [
    "**Create an Identify Matrix**"
   ]
  },
  {
   "cell_type": "code",
   "execution_count": 32,
   "metadata": {},
   "outputs": [
    {
     "name": "stdout",
     "output_type": "stream",
     "text": [
      "[[1. 0. 0. 0. 0.]\n",
      " [0. 1. 0. 0. 0.]\n",
      " [0. 0. 1. 0. 0.]\n",
      " [0. 0. 0. 1. 0.]\n",
      " [0. 0. 0. 0. 1.]]\n"
     ]
    }
   ],
   "source": [
    "# np.identity(n)\n",
    "id_matrix = np.identity(5)\n",
    "print(id_matrix)"
   ]
  },
  {
   "cell_type": "markdown",
   "metadata": {},
   "source": [
    "**Matrix determinant**"
   ]
  },
  {
   "cell_type": "code",
   "execution_count": 33,
   "metadata": {},
   "outputs": [
    {
     "data": {
      "text/plain": [
       "-2.0000000000000004"
      ]
     },
     "execution_count": 33,
     "metadata": {},
     "output_type": "execute_result"
    }
   ],
   "source": [
    "a = np.array([[1, 2], [3, 4]])\n",
    "np.linalg.det(a)"
   ]
  },
  {
   "cell_type": "markdown",
   "metadata": {},
   "source": [
    "**Matrix Inverse**"
   ]
  },
  {
   "cell_type": "code",
   "execution_count": 35,
   "metadata": {},
   "outputs": [
    {
     "name": "stdout",
     "output_type": "stream",
     "text": [
      "[[ 1.33333333 -1.        ]\n",
      " [-0.33333333  0.5       ]]\n"
     ]
    }
   ],
   "source": [
    "matrix_a = np.asarray([\n",
    "    [1.5, 3],\n",
    "    [1, 4]\n",
    "])\n",
    "inverse_a = np.linalg.inv(matrix_a)\n",
    "print(inverse_a)"
   ]
  },
  {
   "cell_type": "markdown",
   "metadata": {},
   "source": [
    "**Product of Matrix and Matrix Inverse**\n",
    "\n",
    "Results in an identity matrix."
   ]
  },
  {
   "cell_type": "code",
   "execution_count": 38,
   "metadata": {},
   "outputs": [
    {
     "name": "stdout",
     "output_type": "stream",
     "text": [
      "[[1. 0.]\n",
      " [0. 1.]]\n"
     ]
    }
   ],
   "source": [
    "identity_matrix = np.dot(matrix_a, inverse_a)\n",
    "print(identity_matrix)"
   ]
  },
  {
   "cell_type": "code",
   "execution_count": null,
   "metadata": {},
   "outputs": [],
   "source": []
  }
 ],
 "metadata": {
  "kernelspec": {
   "display_name": "datascience",
   "language": "python",
   "name": "datascience"
  },
  "language_info": {
   "codemirror_mode": {
    "name": "ipython",
    "version": 3
   },
   "file_extension": ".py",
   "mimetype": "text/x-python",
   "name": "python",
   "nbconvert_exporter": "python",
   "pygments_lexer": "ipython3",
   "version": "3.7.0"
  }
 },
 "nbformat": 4,
 "nbformat_minor": 2
}
