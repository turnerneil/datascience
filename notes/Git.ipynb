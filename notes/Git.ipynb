{
 "cells": [
  {
   "cell_type": "markdown",
   "metadata": {},
   "source": [
    "**Stage files all changed files**\n",
    "\n",
    "`git add --all`\n",
    "\n",
    "**Stage a specefic file**\n",
    "\n",
    "`git add myfile.py`\n",
    "\n",
    "**Unstage all files**\n",
    "\n",
    "`git reset`\n",
    "\n",
    "**Revert all uncommit changes**\n",
    "\n",
    "`git checkout .`\n",
    "\n",
    "- Note: if the file has been staged (add) you must unstage first.\n",
    "\n",
    "**Revert to a previous commit**\n",
    "\n",
    "\n",
    "**Change master to a previous commit**\n"
   ]
  },
  {
   "cell_type": "code",
   "execution_count": null,
   "metadata": {
    "collapsed": true
   },
   "outputs": [],
   "source": []
  }
 ],
 "metadata": {
  "kernelspec": {
   "display_name": "Python [conda env:python3]",
   "language": "python",
   "name": "conda-env-python3-py"
  },
  "language_info": {
   "codemirror_mode": {
    "name": "ipython",
    "version": 3
   },
   "file_extension": ".py",
   "mimetype": "text/x-python",
   "name": "python",
   "nbconvert_exporter": "python",
   "pygments_lexer": "ipython3",
   "version": "3.6.4"
  }
 },
 "nbformat": 4,
 "nbformat_minor": 2
}
