{
 "cells": [
  {
   "cell_type": "markdown",
   "metadata": {},
   "source": [
    "Basic LinearRegression model to apply what i've been learning to a new dataset."
   ]
  },
  {
   "cell_type": "code",
   "execution_count": 1,
   "metadata": {
    "collapsed": false
   },
   "outputs": [],
   "source": [
    "import pandas as pd\n",
    "import numpy as np\n",
    "import matplotlib.pyplot as plt\n",
    "import seaborn as sns\n",
    "from sklearn.linear_model import LinearRegression\n",
    "from sklearn.metrics import mean_squared_error\n"
   ]
  },
  {
   "cell_type": "code",
   "execution_count": 2,
   "metadata": {
    "collapsed": false
   },
   "outputs": [],
   "source": [
    "train = pd.read_csv('train.csv')\n",
    "test = pd.read_csv('test.csv')\n",
    "target = train['Survived']"
   ]
  },
  {
   "cell_type": "code",
   "execution_count": 3,
   "metadata": {
    "collapsed": false
   },
   "outputs": [
    {
     "name": "stdout",
     "output_type": "stream",
     "text": [
      "<class 'pandas.core.frame.DataFrame'>\n",
      "RangeIndex: 891 entries, 0 to 890\n",
      "Data columns (total 12 columns):\n",
      "PassengerId    891 non-null int64\n",
      "Survived       891 non-null int64\n",
      "Pclass         891 non-null int64\n",
      "Name           891 non-null object\n",
      "Sex            891 non-null object\n",
      "Age            714 non-null float64\n",
      "SibSp          891 non-null int64\n",
      "Parch          891 non-null int64\n",
      "Ticket         891 non-null object\n",
      "Fare           891 non-null float64\n",
      "Cabin          204 non-null object\n",
      "Embarked       889 non-null object\n",
      "dtypes: float64(2), int64(5), object(5)\n",
      "memory usage: 83.6+ KB\n"
     ]
    }
   ],
   "source": [
    "train.info()"
   ]
  },
  {
   "cell_type": "code",
   "execution_count": 4,
   "metadata": {
    "collapsed": true
   },
   "outputs": [],
   "source": [
    "def clean_data(df):\n",
    "    df = df.drop('Cabin', axis=1)\n",
    "    df['Embarked'] = df['Embarked'].fillna('S')\n",
    "    df['Age'] = df['Age'].fillna(train['Age'].mean())\n",
    "    return df"
   ]
  },
  {
   "cell_type": "code",
   "execution_count": 5,
   "metadata": {
    "collapsed": false
   },
   "outputs": [],
   "source": [
    "def create_features(df):\n",
    "    ## Ages to groups\n",
    "    bins = [0,5,10,15,20,25,30,35,40,45,50,100]\n",
    "    #labels = ['0-5','6-10','11-15', '16-20', '21-25']\n",
    "    groups = pd.cut(df['Age'], bins)\n",
    "    df = df.drop('Age', axis=1)\n",
    "    df = pd.concat([df,groups], axis=1)\n",
    "\n",
    "    ## Fares to groups\n",
    "    bins = [0,5,10,15,20,25,30,35,40,45,50,100,1000]\n",
    "    #labels = ['Cheap','Normal','Expensive','Suite']\n",
    "    groups = pd.cut(df['Fare'], bins)\n",
    "    df = df.drop('Fare', axis=1)\n",
    "    df = pd.concat([df,groups], axis=1)\n",
    "    \n",
    "    ## Turn into multiple columns\n",
    "    features = ['Sex', 'Fare', 'SibSp', 'Age']\n",
    "    df = df[features]\n",
    "    for col in features:\n",
    "        df[col] = df[col].astype('category')\n",
    "        col_dummies = pd.get_dummies(df[col])\n",
    "        df = pd.concat([df,col_dummies], axis=1)\n",
    "        del df[col]\n",
    "    return(df)"
   ]
  },
  {
   "cell_type": "code",
   "execution_count": 17,
   "metadata": {
    "collapsed": true
   },
   "outputs": [],
   "source": [
    "def train_model(train, test):\n",
    "    features = train.columns.tolist()\n",
    "    features.remove('Survived')\n",
    "    \n",
    "    lr = LinearRegression()\n",
    "\n",
    "    X_train = train[features]\n",
    "    y_train = train['Survived']\n",
    "\n",
    "    X_test = test[features]\n",
    "    #y_test = test['Survived']\n",
    "\n",
    "    lr.fit(X_train, y_train)\n",
    "    \n",
    "    predictions = lr.predict(X_train)\n",
    "    \n",
    "    new_predictions = []\n",
    "    for i in predictions:\n",
    "        if i > 0.5: \n",
    "            new_predictions.append(1)\n",
    "        else:\n",
    "            new_predictions.append(0)\n",
    "\n",
    "    \n",
    "    mse = mean_squared_error(y_train, new_predictions)\n",
    "    rmse = np.sqrt(mse)\n",
    "\n",
    "    # In this case MSE is the portion of correct answer to wrong ones\n",
    "    print(1 - mse)\n",
    "    #print(rmse)\n",
    "    #return new_predictions"
   ]
  },
  {
   "cell_type": "code",
   "execution_count": 18,
   "metadata": {
    "collapsed": false
   },
   "outputs": [
    {
     "name": "stdout",
     "output_type": "stream",
     "text": [
      "0.811447811448\n"
     ]
    }
   ],
   "source": [
    "train_df = clean_data(train)\n",
    "test_df = clean_data(test)\n",
    "train_df = create_features(train)\n",
    "train_df = pd.concat([train_df,target], axis=1)\n",
    "test_df = create_features(test)\n",
    "train_model(train_df,test_df)"
   ]
  },
  {
   "cell_type": "markdown",
   "metadata": {},
   "source": [
    "81.14% Of predictions were correct."
   ]
  },
  {
   "cell_type": "markdown",
   "metadata": {},
   "source": [
    "## Data Exploration and Cleaning"
   ]
  },
  {
   "cell_type": "code",
   "execution_count": 8,
   "metadata": {
    "collapsed": false
   },
   "outputs": [
    {
     "data": {
      "text/plain": [
       "PassengerId      0\n",
       "Survived         0\n",
       "Pclass           0\n",
       "Name             0\n",
       "Sex              0\n",
       "Age            177\n",
       "SibSp            0\n",
       "Parch            0\n",
       "Ticket           0\n",
       "Fare             0\n",
       "Cabin          687\n",
       "Embarked         2\n",
       "dtype: int64"
      ]
     },
     "execution_count": 8,
     "metadata": {},
     "output_type": "execute_result"
    }
   ],
   "source": [
    "# find null data\n",
    "train.isnull().sum()"
   ]
  },
  {
   "cell_type": "code",
   "execution_count": 9,
   "metadata": {
    "collapsed": true
   },
   "outputs": [],
   "source": [
    "#We have missing data in 3 columns we need to deal with.\n",
    "\n",
    "## Age is proababily an important indicator.\n",
    "# 1) Come up with a way to predict age.\n",
    "# 2) Use the mean age\n",
    "# ML model for age will be more work, but I think it's worth it in this problem. \n",
    "# Things like finding out if they are a child or old, will help a lot.\n",
    "\n",
    "## Cabin has lots of missing values, and probably not important since we know the class.  Drop\n",
    "\n",
    "## Embarked only has 2 missing values. We'll fill it with the most common of all values\n"
   ]
  },
  {
   "cell_type": "code",
   "execution_count": 10,
   "metadata": {
    "collapsed": true
   },
   "outputs": [],
   "source": [
    "## Correlation "
   ]
  },
  {
   "cell_type": "code",
   "execution_count": 11,
   "metadata": {
    "collapsed": false
   },
   "outputs": [
    {
     "data": {
      "text/plain": [
       "PassengerId    0.005007\n",
       "SibSp          0.035322\n",
       "Age            0.077221\n",
       "Parch          0.081629\n",
       "Fare           0.257307\n",
       "Pclass         0.338481\n",
       "Survived       1.000000\n",
       "Name: Survived, dtype: float64"
      ]
     },
     "execution_count": 11,
     "metadata": {},
     "output_type": "execute_result"
    }
   ],
   "source": [
    "corr_df = train.corr()\n",
    "sorted_corrs = corr_df['Survived'].abs().sort_values(ascending=True)\n",
    "sorted_corrs"
   ]
  },
  {
   "cell_type": "code",
   "execution_count": 12,
   "metadata": {
    "collapsed": false
   },
   "outputs": [
    {
     "data": {
      "image/png": "[encoded data removed]",
      "text/plain": [
       "<matplotlib.figure.Figure at 0x10ac102e8>"
      ]
     },
     "metadata": {},
     "output_type": "display_data"
    }
   ],
   "source": [
    "corrmat = train[sorted_corrs.index].corr()\n",
    "sns.heatmap(corrmat)\n",
    "plt.show()"
   ]
  },
  {
   "cell_type": "code",
   "execution_count": 30,
   "metadata": {
    "collapsed": true
   },
   "outputs": [],
   "source": [
    "## Pclass and Fare have a strong correlation. \n",
    "## We should only use one of them.\n",
    "## Pclass and age are also pretty related\n",
    "## As a result, maybe drop pclass and onlu use age and fare?\n",
    "## My assumption is rich kids had a pclass of 1, but a cheap fare."
   ]
  }
 ],
 "metadata": {
  "kernelspec": {
   "display_name": "Python 3",
   "language": "python",
   "name": "python3"
  },
  "language_info": {
   "codemirror_mode": {
    "name": "ipython",
    "version": 3
   },
   "file_extension": ".py",
   "mimetype": "text/x-python",
   "name": "python",
   "nbconvert_exporter": "python",
   "pygments_lexer": "ipython3",
   "version": "3.6.4"
  }
 },
 "nbformat": 4,
 "nbformat_minor": 2
}
