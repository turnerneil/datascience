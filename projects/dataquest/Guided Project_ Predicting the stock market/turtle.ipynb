{
 "cells": [
  {
   "cell_type": "code",
   "execution_count": 148,
   "metadata": {
    "collapsed": true
   },
   "outputs": [],
   "source": [
    "import pandas as pd\n",
    "import numpy as np\n",
    "from datetime import datetime\n",
    "from sklearn.linear_model import LinearRegression\n",
    "from sklearn.metrics import mean_absolute_error\n",
    "from sklearn.metrics import mean_squared_error\n",
    "import matplotlib.pyplot as plt"
   ]
  },
  {
   "cell_type": "code",
   "execution_count": 149,
   "metadata": {
    "collapsed": false
   },
   "outputs": [],
   "source": [
    "data = pd.read_csv('sphist.csv')\n",
    "data['Date'] = pd.to_datetime(data['Date'])\n",
    "data = data.sort_values('Date', ascending=True)\n",
    "data = data[data['Date'] >= datetime(year=2000, month=1, day=1)]"
   ]
  },
  {
   "cell_type": "code",
   "execution_count": 150,
   "metadata": {
    "collapsed": false
   },
   "outputs": [
    {
     "name": "stdout",
     "output_type": "stream",
     "text": [
      "<class 'pandas.core.frame.DataFrame'>\n",
      "Int64Index: 4008 entries, 4007 to 0\n",
      "Data columns (total 7 columns):\n",
      "Date         4008 non-null datetime64[ns]\n",
      "Open         4008 non-null float64\n",
      "High         4008 non-null float64\n",
      "Low          4008 non-null float64\n",
      "Close        4008 non-null float64\n",
      "Volume       4008 non-null float64\n",
      "Adj Close    4008 non-null float64\n",
      "dtypes: datetime64[ns](1), float64(6)\n",
      "memory usage: 250.5 KB\n"
     ]
    }
   ],
   "source": [
    "data.info()"
   ]
  },
  {
   "cell_type": "code",
   "execution_count": 151,
   "metadata": {
    "collapsed": false
   },
   "outputs": [
    {
     "data": {
      "text/html": [
       "<div>\n",
       "<style scoped>\n",
       "    .dataframe tbody tr th:only-of-type {\n",
       "        vertical-align: middle;\n",
       "    }\n",
       "\n",
       "    .dataframe tbody tr th {\n",
       "        vertical-align: top;\n",
       "    }\n",
       "\n",
       "    .dataframe thead th {\n",
       "        text-align: right;\n",
       "    }\n",
       "</style>\n",
       "<table border=\"1\" class=\"dataframe\">\n",
       "  <thead>\n",
       "    <tr style=\"text-align: right;\">\n",
       "      <th></th>\n",
       "      <th>Date</th>\n",
       "      <th>Open</th>\n",
       "      <th>High</th>\n",
       "      <th>Low</th>\n",
       "      <th>Close</th>\n",
       "      <th>Volume</th>\n",
       "      <th>Adj Close</th>\n",
       "    </tr>\n",
       "  </thead>\n",
       "  <tbody>\n",
       "    <tr>\n",
       "      <th>4007</th>\n",
       "      <td>2000-01-03</td>\n",
       "      <td>1469.250000</td>\n",
       "      <td>1478.000000</td>\n",
       "      <td>1438.359985</td>\n",
       "      <td>1455.219971</td>\n",
       "      <td>9.318000e+08</td>\n",
       "      <td>1455.219971</td>\n",
       "    </tr>\n",
       "    <tr>\n",
       "      <th>4006</th>\n",
       "      <td>2000-01-04</td>\n",
       "      <td>1455.219971</td>\n",
       "      <td>1455.219971</td>\n",
       "      <td>1397.430054</td>\n",
       "      <td>1399.420044</td>\n",
       "      <td>1.009000e+09</td>\n",
       "      <td>1399.420044</td>\n",
       "    </tr>\n",
       "    <tr>\n",
       "      <th>4005</th>\n",
       "      <td>2000-01-05</td>\n",
       "      <td>1399.420044</td>\n",
       "      <td>1413.270020</td>\n",
       "      <td>1377.680054</td>\n",
       "      <td>1402.109985</td>\n",
       "      <td>1.085500e+09</td>\n",
       "      <td>1402.109985</td>\n",
       "    </tr>\n",
       "    <tr>\n",
       "      <th>4004</th>\n",
       "      <td>2000-01-06</td>\n",
       "      <td>1402.109985</td>\n",
       "      <td>1411.900024</td>\n",
       "      <td>1392.099976</td>\n",
       "      <td>1403.449951</td>\n",
       "      <td>1.092300e+09</td>\n",
       "      <td>1403.449951</td>\n",
       "    </tr>\n",
       "    <tr>\n",
       "      <th>4003</th>\n",
       "      <td>2000-01-07</td>\n",
       "      <td>1403.449951</td>\n",
       "      <td>1441.469971</td>\n",
       "      <td>1400.729980</td>\n",
       "      <td>1441.469971</td>\n",
       "      <td>1.225200e+09</td>\n",
       "      <td>1441.469971</td>\n",
       "    </tr>\n",
       "  </tbody>\n",
       "</table>\n",
       "</div>"
      ],
      "text/plain": [
       "           Date         Open         High          Low        Close  \\\n",
       "4007 2000-01-03  1469.250000  1478.000000  1438.359985  1455.219971   \n",
       "4006 2000-01-04  1455.219971  1455.219971  1397.430054  1399.420044   \n",
       "4005 2000-01-05  1399.420044  1413.270020  1377.680054  1402.109985   \n",
       "4004 2000-01-06  1402.109985  1411.900024  1392.099976  1403.449951   \n",
       "4003 2000-01-07  1403.449951  1441.469971  1400.729980  1441.469971   \n",
       "\n",
       "            Volume    Adj Close  \n",
       "4007  9.318000e+08  1455.219971  \n",
       "4006  1.009000e+09  1399.420044  \n",
       "4005  1.085500e+09  1402.109985  \n",
       "4004  1.092300e+09  1403.449951  \n",
       "4003  1.225200e+09  1441.469971  "
      ]
     },
     "execution_count": 151,
     "metadata": {},
     "output_type": "execute_result"
    }
   ],
   "source": [
    "data.head()"
   ]
  },
  {
   "cell_type": "code",
   "execution_count": 152,
   "metadata": {
    "collapsed": false
   },
   "outputs": [
    {
     "name": "stdout",
     "output_type": "stream",
     "text": [
      "Date         0\n",
      "Open         0\n",
      "High         0\n",
      "Low          0\n",
      "Close        0\n",
      "Volume       0\n",
      "Adj Close    0\n",
      "dtype: int64\n"
     ]
    }
   ],
   "source": [
    "# Null entries\n",
    "print( data.isnull().sum())"
   ]
  },
  {
   "cell_type": "code",
   "execution_count": 153,
   "metadata": {
    "collapsed": false
   },
   "outputs": [
    {
     "name": "stdout",
     "output_type": "stream",
     "text": [
      "        Date         Open         High          Low        Close  \\\n",
      "4 2015-12-01  2082.929932  2103.370117  2082.929932  2102.629883   \n",
      "3 2015-12-02  2101.709961  2104.270020  2077.110107  2079.510010   \n",
      "2 2015-12-03  2080.709961  2085.000000  2042.349976  2049.620117   \n",
      "1 2015-12-04  2051.239990  2093.840088  2051.239990  2091.689941   \n",
      "0 2015-12-07  2090.419922  2090.419922  2066.780029  2077.070068   \n",
      "\n",
      "         Volume    Adj Close  \n",
      "4  3.712120e+09  2102.629883  \n",
      "3  3.950640e+09  2079.510010  \n",
      "2  4.306490e+09  2049.620117  \n",
      "1  4.214910e+09  2091.689941  \n",
      "0  4.043820e+09  2077.070068  \n"
     ]
    }
   ],
   "source": [
    "data['Volume'].fillna(value=0, inplace=True)\n",
    "data['Open'].fillna(method='ffill', inplace=True)\n",
    "data['High'].fillna(method='ffill', inplace=True)\n",
    "data['Low'].fillna(method='ffill', inplace=True)\n",
    "data['Close'].fillna(method='ffill', inplace=True)\n",
    "data['Adj Close'].fillna(method='ffill', inplace=True)\n",
    "\n",
    "print(data.tail())"
   ]
  },
  {
   "cell_type": "markdown",
   "metadata": {},
   "source": [
    "The first thing we need are our trading signals. The Turtle strategy was based on daily data and they used to enter breakouts (new higher highs or new lower lows) in the 22-55 day range roughly."
   ]
  },
  {
   "cell_type": "code",
   "execution_count": 154,
   "metadata": {
    "collapsed": true
   },
   "outputs": [],
   "source": [
    "signal_lookback = 55  # days\n",
    "data['Buy'] = np.zeros(len(data))\n",
    "data['Sell'] = np.zeros(len(data))"
   ]
  },
  {
   "cell_type": "code",
   "execution_count": 155,
   "metadata": {
    "collapsed": true
   },
   "outputs": [],
   "source": [
    "# core strategy: enter when there is a price breakout over the rolling mean, exit in the same fashion\n",
    "data['RollingMax'] = data['Close'].shift(1).rolling(signal_lookback, min_periods=signal_lookback).max()\n",
    "data['RollingMin'] = data['Close'].shift(1).rolling(signal_lookback, min_periods=signal_lookback).min()\n",
    "data.loc[data['RollingMax'] < data['Close'], 'Buy'] = 1\n",
    "data.loc[data['RollingMin'] > data['Close'], 'Sell'] = -1"
   ]
  },
  {
   "cell_type": "code",
   "execution_count": 156,
   "metadata": {
    "collapsed": false
   },
   "outputs": [
    {
     "data": {
      "text/html": [
       "<div>\n",
       "<style scoped>\n",
       "    .dataframe tbody tr th:only-of-type {\n",
       "        vertical-align: middle;\n",
       "    }\n",
       "\n",
       "    .dataframe tbody tr th {\n",
       "        vertical-align: top;\n",
       "    }\n",
       "\n",
       "    .dataframe thead th {\n",
       "        text-align: right;\n",
       "    }\n",
       "</style>\n",
       "<table border=\"1\" class=\"dataframe\">\n",
       "  <thead>\n",
       "    <tr style=\"text-align: right;\">\n",
       "      <th></th>\n",
       "      <th>Date</th>\n",
       "      <th>Open</th>\n",
       "      <th>High</th>\n",
       "      <th>Low</th>\n",
       "      <th>Close</th>\n",
       "      <th>Volume</th>\n",
       "      <th>Adj Close</th>\n",
       "      <th>Buy</th>\n",
       "      <th>Sell</th>\n",
       "      <th>RollingMax</th>\n",
       "      <th>RollingMin</th>\n",
       "    </tr>\n",
       "  </thead>\n",
       "  <tbody>\n",
       "    <tr>\n",
       "      <th>4</th>\n",
       "      <td>2015-12-01</td>\n",
       "      <td>2082.929932</td>\n",
       "      <td>2103.370117</td>\n",
       "      <td>2082.929932</td>\n",
       "      <td>2102.629883</td>\n",
       "      <td>3.712120e+09</td>\n",
       "      <td>2102.629883</td>\n",
       "      <td>0.0</td>\n",
       "      <td>0.0</td>\n",
       "      <td>2109.790039</td>\n",
       "      <td>1881.77002</td>\n",
       "    </tr>\n",
       "    <tr>\n",
       "      <th>3</th>\n",
       "      <td>2015-12-02</td>\n",
       "      <td>2101.709961</td>\n",
       "      <td>2104.270020</td>\n",
       "      <td>2077.110107</td>\n",
       "      <td>2079.510010</td>\n",
       "      <td>3.950640e+09</td>\n",
       "      <td>2079.510010</td>\n",
       "      <td>0.0</td>\n",
       "      <td>0.0</td>\n",
       "      <td>2109.790039</td>\n",
       "      <td>1881.77002</td>\n",
       "    </tr>\n",
       "    <tr>\n",
       "      <th>2</th>\n",
       "      <td>2015-12-03</td>\n",
       "      <td>2080.709961</td>\n",
       "      <td>2085.000000</td>\n",
       "      <td>2042.349976</td>\n",
       "      <td>2049.620117</td>\n",
       "      <td>4.306490e+09</td>\n",
       "      <td>2049.620117</td>\n",
       "      <td>0.0</td>\n",
       "      <td>0.0</td>\n",
       "      <td>2109.790039</td>\n",
       "      <td>1881.77002</td>\n",
       "    </tr>\n",
       "    <tr>\n",
       "      <th>1</th>\n",
       "      <td>2015-12-04</td>\n",
       "      <td>2051.239990</td>\n",
       "      <td>2093.840088</td>\n",
       "      <td>2051.239990</td>\n",
       "      <td>2091.689941</td>\n",
       "      <td>4.214910e+09</td>\n",
       "      <td>2091.689941</td>\n",
       "      <td>0.0</td>\n",
       "      <td>0.0</td>\n",
       "      <td>2109.790039</td>\n",
       "      <td>1881.77002</td>\n",
       "    </tr>\n",
       "    <tr>\n",
       "      <th>0</th>\n",
       "      <td>2015-12-07</td>\n",
       "      <td>2090.419922</td>\n",
       "      <td>2090.419922</td>\n",
       "      <td>2066.780029</td>\n",
       "      <td>2077.070068</td>\n",
       "      <td>4.043820e+09</td>\n",
       "      <td>2077.070068</td>\n",
       "      <td>0.0</td>\n",
       "      <td>0.0</td>\n",
       "      <td>2109.790039</td>\n",
       "      <td>1881.77002</td>\n",
       "    </tr>\n",
       "  </tbody>\n",
       "</table>\n",
       "</div>"
      ],
      "text/plain": [
       "        Date         Open         High          Low        Close  \\\n",
       "4 2015-12-01  2082.929932  2103.370117  2082.929932  2102.629883   \n",
       "3 2015-12-02  2101.709961  2104.270020  2077.110107  2079.510010   \n",
       "2 2015-12-03  2080.709961  2085.000000  2042.349976  2049.620117   \n",
       "1 2015-12-04  2051.239990  2093.840088  2051.239990  2091.689941   \n",
       "0 2015-12-07  2090.419922  2090.419922  2066.780029  2077.070068   \n",
       "\n",
       "         Volume    Adj Close  Buy  Sell   RollingMax  RollingMin  \n",
       "4  3.712120e+09  2102.629883  0.0   0.0  2109.790039  1881.77002  \n",
       "3  3.950640e+09  2079.510010  0.0   0.0  2109.790039  1881.77002  \n",
       "2  4.306490e+09  2049.620117  0.0   0.0  2109.790039  1881.77002  \n",
       "1  4.214910e+09  2091.689941  0.0   0.0  2109.790039  1881.77002  \n",
       "0  4.043820e+09  2077.070068  0.0   0.0  2109.790039  1881.77002  "
      ]
     },
     "execution_count": 156,
     "metadata": {},
     "output_type": "execute_result"
    }
   ],
   "source": [
    "data.tail()"
   ]
  },
  {
   "cell_type": "code",
   "execution_count": 157,
   "metadata": {
    "collapsed": false
   },
   "outputs": [
    {
     "data": {
      "image/png": "[encoded data removed]",
      "text/plain": [
       "<matplotlib.figure.Figure at 0x1261de898>"
      ]
     },
     "metadata": {},
     "output_type": "display_data"
    },
    {
     "data": {
      "image/png": "[encoded data removed]",
      "text/plain": [
       "<matplotlib.figure.Figure at 0x12620cba8>"
      ]
     },
     "metadata": {},
     "output_type": "display_data"
    }
   ],
   "source": [
    "# lets now take a look and see if its doing something sensible\n",
    "import matplotlib\n",
    "import matplotlib.pyplot as plt\n",
    "\n",
    "fig1 = plt.figure()\n",
    "ax1 = fig1.add_subplot(111)\n",
    "\n",
    "ax1.plot(data['Date'], data['Close'],label=i)\n",
    "ax1.plot(data['Date'], data['RollingMax'], color = 'g')\n",
    "ax1.plot(data['Date'], data['RollingMin'], color = 'r')\n",
    "plt.show()"
   ]
  },
  {
   "cell_type": "code",
   "execution_count": 162,
   "metadata": {
    "collapsed": false
   },
   "outputs": [
    {
     "data": {
      "image/png": "[encoded data removed]",
      "text/plain": [
       "<matplotlib.figure.Figure at 0x1231576d8>"
      ]
     },
     "metadata": {},
     "output_type": "display_data"
    }
   ],
   "source": [
    "# lets now take a look and see if its doing something sensible\n",
    "import matplotlib\n",
    "import matplotlib.pyplot as plt\n",
    "\n",
    "fig,ax1 = plt.subplots(1,1)\n",
    "ax1.plot(data['Date'], data['Close'])\n",
    "y = ax1.get_ylim()\n",
    "ax1.set_ylim(y[0] - (y[1]-y[0])*0.4, y[1])\n",
    "\n",
    "ax2 = ax1.twinx()\n",
    "ax2.set_position(matplotlib.transforms.Bbox([[0.125,0.1],[0.9,0.32]]))\n",
    "ax2.plot(data['Date'], data['Buy'], color='#77dd77')\n",
    "ax2.plot(data['Date'], data['Sell'], color='#dd4444')\n",
    "plt.show()"
   ]
  },
  {
   "cell_type": "code",
   "execution_count": 163,
   "metadata": {
    "collapsed": false
   },
   "outputs": [
    {
     "name": "stdout",
     "output_type": "stream",
     "text": [
      "number_of_buy:  481.0\n",
      "number_of_sell:  201.0\n"
     ]
    }
   ],
   "source": [
    "number_of_buys = data['Buy'].sum()\n",
    "number_of_sell =- data['Sell'].sum()\n",
    "print(\"number_of_buy: \", number_of_buys)\n",
    "print(\"number_of_sell: \", number_of_sell)"
   ]
  },
  {
   "cell_type": "code",
   "execution_count": 168,
   "metadata": {
    "collapsed": false
   },
   "outputs": [
    {
     "name": "stdout",
     "output_type": "stream",
     "text": [
      "(481, 1)\n",
      "(201, 1)\n",
      "total size:  682\n"
     ]
    }
   ],
   "source": [
    "buy_prices = data[data['Buy'] == 1]['Close']\n",
    "sell_prices = data[data['Sell'] == -1]['Close']\n",
    "\n",
    "\n",
    "buy_prices = pd.Series.to_frame(buy_prices)\n",
    "buy_prices = buy_prices.rename(columns={'Close': 'Close_buy'})\n",
    "print(buy_prices.shape)\n",
    "sell_prices = pd.Series.to_frame(sell_prices)\n",
    "sell_prices = sell_prices.rename(columns={'Close': 'Close_sell'})\n",
    "print(sell_prices.shape)\n",
    "total_size = sell_prices.shape[0] + buy_prices.shape[0]\n",
    "print(\"total size: \", total_size)"
   ]
  },
  {
   "cell_type": "code",
   "execution_count": 169,
   "metadata": {
    "collapsed": false
   },
   "outputs": [
    {
     "name": "stdout",
     "output_type": "stream",
     "text": [
      "      Close_buy  buy_signal   Close_sell  sell_signal\n",
      "23  2109.790039         1.0          NaN          NaN\n",
      "24  2104.050049         1.0          NaN          NaN\n",
      "72          NaN         NaN  1867.609985         -1.0\n",
      "73          NaN         NaN  1893.209961         -1.0\n",
      "74          NaN         NaN  1970.890015         -1.0\n",
      "        Close_buy  buy_signal  Close_sell  sell_signal\n",
      "3874  1495.839966         1.0         NaN          NaN\n",
      "3875  1492.920044         1.0         NaN          NaN\n",
      "3950  1527.459961         1.0         NaN          NaN\n",
      "3951  1527.349976         1.0         NaN          NaN\n",
      "3952  1500.640015         1.0         NaN          NaN\n"
     ]
    }
   ],
   "source": [
    "buy_prices['buy_signal'] = 1\n",
    "sell_prices['sell_signal'] = -1\n",
    "# dataframe with dates as indices, buy and sell prices \n",
    "#and buy-sell token to understand if we need to buy or sell\n",
    "buy_and_sell = buy_prices.join(sell_prices, how='outer')\n",
    "# it's fine to have NaNs in other columns\n",
    "print(buy_and_sell.head())\n",
    "print(buy_and_sell.tail())"
   ]
  },
  {
   "cell_type": "code",
   "execution_count": 171,
   "metadata": {
    "collapsed": true
   },
   "outputs": [],
   "source": [
    "# compute revenue of turtle trading method\n",
    "def compute_revenue(initial_holdings,\n",
    "                    # A possible strategy is to always buy and sell fixed amounts. In the actual turtle \n",
    "                    # strategy these were dynamical, adjusted on the volatility of the stocks \n",
    "                    # If use_fixed_USD_amount = False then we use an even simpler (but less realistic)\n",
    "                    # strategy, that is always buy or sell 1 BTC (when there is a signal),\n",
    "                    #no matter how much it cost.\n",
    "                    use_fixed_USD_amount = False, fixed_amount_buy = 100, fixed_amount_sell = 100,\n",
    "                    # Starting from initial_holdings, could we borrow additional USD?\n",
    "                    allow_negative_usd_holdings = False):\n",
    "    \n",
    "    usd_holdings = initial_holdings\n",
    "    btc_holdings_value = 0\n",
    "    total_holdings_value = []\n",
    "    dates = []\n",
    "    number_of_btc = 0\n",
    "    for i in range(len(buy_and_sell)):\n",
    "        \n",
    "        if( buy_and_sell.iloc[i]['buy_signal'] == 1):\n",
    "            \n",
    "            current_price = buy_and_sell.iloc[i]['Close_buy']\n",
    "            if (( usd_holdings - current_price > 0) \n",
    "               or (( usd_holdings - current_price < 0) and (allow_negative_usd_holdings == True))):\n",
    "                \n",
    "                if use_fixed_USD_amount:\n",
    "                    btc_to_buy = float(fixed_amount_buy)/current_price\n",
    "                    number_of_btc += btc_to_buy\n",
    "                    usd_holdings = usd_holdings - fixed_amount_buy\n",
    "                else:\n",
    "                    number_of_btc += 1\n",
    "                    usd_holdings = usd_holdings - current_price   \n",
    "                \n",
    "            \n",
    "        if( buy_and_sell.iloc[i]['sell_signal'] == -1):\n",
    "        \n",
    "            current_price = buy_and_sell.iloc[i]['Close_sell']\n",
    "            \n",
    "            if (use_fixed_USD_amount and (number_of_btc > 0)):\n",
    "                btc_to_sell = float(fixed_amount_sell)/current_price\n",
    "                if (btc_to_sell > number_of_btc):\n",
    "                    number_of_btc += btc_to_sell\n",
    "                    usd_holdings = usd_holdings + fixed_amount_sell\n",
    "            elif (number_of_btc > 0):\n",
    "                number_of_btc -= 1\n",
    "                usd_holdings = usd_holdings + current_price   \n",
    "        \n",
    "        btc_holdings_value = number_of_btc * current_price\n",
    "        total_holdings_value.append(btc_holdings_value + usd_holdings)\n",
    "        dates.append(buy_and_sell.index[i])\n",
    "    \n",
    "    \n",
    "    print(\"Number of BTC remaining: \", number_of_btc)\n",
    "    print(\"btc_holdings_value: \", btc_holdings_value)\n",
    "    print(\"usd_holdings_value: \",usd_holdings)\n",
    "    print(\"total_holdings_value: \",total_holdings_value[-1])\n",
    "    print(\"Total Gain (ROI): \", (total_holdings_value[-1]/float(initial_holdings) -1) *100 , \"%\")\n",
    "    \n",
    "    return btc_holdings_value, usd_holdings, total_holdings_value, number_of_btc, dates"
   ]
  },
  {
   "cell_type": "code",
   "execution_count": 173,
   "metadata": {
    "collapsed": true
   },
   "outputs": [],
   "source": [
    "def plot_revenue(dates, total_holdings_value):\n",
    "    import matplotlib.dates as mdates\n",
    "    fig, ax = plt.subplots()\n",
    "    ax.plot(dates, total_holdings_value)\n",
    "    plt.ylabel('total_holdings_value')\n",
    "\n",
    "    years = mdates.YearLocator()   # every year\n",
    "    ax.xaxis.set_major_locator(years)\n",
    "\n",
    "    #datemin = datetime.date(2015, 6, 1)\n",
    "    #datemax = datetime.date(2017, 1, 1)\n",
    "    #ax.set_xlim(datemin, datemax)\n",
    "\n",
    "    fig.autofmt_xdate()\n",
    "    plt.show()"
   ]
  },
  {
   "cell_type": "code",
   "execution_count": 174,
   "metadata": {
    "collapsed": false
   },
   "outputs": [
    {
     "name": "stdout",
     "output_type": "stream",
     "text": [
      "Number of BTC remaining:  284\n",
      "btc_holdings_value:  426181.76426\n",
      "usd_holdings_value:  550247.080625\n",
      "total_holdings_value:  976428.844885\n",
      "Total Gain (ROI):  -2.3571155115 %\n"
     ]
    },
    {
     "data": {
      "image/png": "[encoded data removed]",
      "text/plain": [
       "<matplotlib.figure.Figure at 0x123251908>"
      ]
     },
     "metadata": {},
     "output_type": "display_data"
    }
   ],
   "source": [
    "one_milion = 1000000\n",
    "initial_holdings = 1 * one_milion\n",
    "\n",
    "# always buy/sell 1 BTC\n",
    "_, _, total_holdings_value1, _, dates1 = compute_revenue(initial_holdings ,\n",
    "                                                       allow_negative_usd_holdings = False)\n",
    "plot_revenue(dates1, total_holdings_value1)"
   ]
  },
  {
   "cell_type": "code",
   "execution_count": 175,
   "metadata": {
    "collapsed": false
   },
   "outputs": [
    {
     "name": "stdout",
     "output_type": "stream",
     "text": [
      "Number of BTC remaining:  35.9130205756\n",
      "btc_holdings_value:  53892.5157352\n",
      "usd_holdings_value:  951900\n",
      "total_holdings_value:  1005792.51574\n",
      "Total Gain (ROI):  0.579251573523 %\n"
     ]
    },
    {
     "data": {
      "image/png": "[encoded data removed]",
      "text/plain": [
       "<matplotlib.figure.Figure at 0x123251ef0>"
      ]
     },
     "metadata": {},
     "output_type": "display_data"
    }
   ],
   "source": [
    "# always buy/sell a fixed amount\n",
    "initial_holdings = 1 * one_milion\n",
    "\n",
    "_, _, total_holdings_value2, _, dates2 = compute_revenue(initial_holdings ,\n",
    "                                                       use_fixed_USD_amount = True, \n",
    "                                                       fixed_amount_buy = 100, \n",
    "                                                       fixed_amount_sell = 100)\n",
    "plot_revenue(dates2, total_holdings_value2)"
   ]
  },
  {
   "cell_type": "code",
   "execution_count": null,
   "metadata": {
    "collapsed": true
   },
   "outputs": [],
   "source": []
  }
 ],
 "metadata": {
  "kernelspec": {
   "display_name": "Python 3",
   "language": "python",
   "name": "python3"
  },
  "language_info": {
   "codemirror_mode": {
    "name": "ipython",
    "version": 3
   },
   "file_extension": ".py",
   "mimetype": "text/x-python",
   "name": "python",
   "nbconvert_exporter": "python",
   "pygments_lexer": "ipython3",
   "version": "3.6.4"
  }
 },
 "nbformat": 4,
 "nbformat_minor": 2
}
