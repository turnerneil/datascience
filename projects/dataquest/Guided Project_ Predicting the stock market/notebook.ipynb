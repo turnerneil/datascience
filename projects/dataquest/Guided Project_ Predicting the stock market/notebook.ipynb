{
 "cells": [
  {
   "cell_type": "code",
   "execution_count": 21,
   "metadata": {
    "collapsed": false
   },
   "outputs": [],
   "source": [
    "import pandas as pd\n",
    "import numpy as np\n",
    "from datetime import datetime\n",
    "from sklearn.linear_model import LinearRegression\n",
    "from sklearn.metrics import mean_absolute_error\n",
    "from sklearn.metrics import mean_squared_error\n",
    "from sklearn import preprocessing\n",
    "import matplotlib\n",
    "import matplotlib.pyplot as plt\n",
    "pd.options.mode.chained_assignment = None  # default='warn'"
   ]
  },
  {
   "cell_type": "code",
   "execution_count": 2,
   "metadata": {
    "collapsed": true
   },
   "outputs": [],
   "source": [
    "# Load and data\n",
    "df = pd.read_csv('sphist.csv')"
   ]
  },
  {
   "cell_type": "code",
   "execution_count": 3,
   "metadata": {
    "collapsed": true
   },
   "outputs": [],
   "source": [
    "# Clean data\n",
    "df['Date'] = pd.to_datetime(df['Date'])\n",
    "df = df.sort_values('Date', ascending=True)\n",
    "df = df[df.Date > datetime(year=1951, month=6, day=18)]\n",
    "df = df.dropna(axis=0)"
   ]
  },
  {
   "cell_type": "code",
   "execution_count": 4,
   "metadata": {
    "collapsed": false
   },
   "outputs": [
    {
     "data": {
      "image/png": "[encoded data removed]",
      "text/plain": [
       "<matplotlib.figure.Figure at 0x115105358>"
      ]
     },
     "metadata": {},
     "output_type": "display_data"
    }
   ],
   "source": [
    "plt.plot(df['Date'], df['Close'])\n",
    "plt.show()"
   ]
  },
  {
   "cell_type": "code",
   "execution_count": 5,
   "metadata": {
    "collapsed": true
   },
   "outputs": [],
   "source": [
    "# Creare features\n",
    "def create_features(df, moving_average):\n",
    "    df['Close MA'] = df['Close'].rolling(moving_average, min_periods=moving_average).mean()\n",
    "    df['Volume MA'] = df['Volume'].rolling(moving_average, min_periods=moving_average).mean()    \n",
    "    \n",
    "    features = df.drop(['High','Low','Volume', 'Adj Close','Date','Close','Open'], axis=1)\n",
    "    features = features.columns.tolist()\n",
    "    \n",
    "    for i in features:\n",
    "        df[i] = df[i].shift(periods=1)\n",
    "        \n",
    "    return df, features"
   ]
  },
  {
   "cell_type": "code",
   "execution_count": 38,
   "metadata": {
    "collapsed": false
   },
   "outputs": [],
   "source": [
    "# Train model\n",
    "def train_model(df, features):\n",
    "    \n",
    "    train = df[df.Date < datetime(year=2015, month=10, day=1)]\n",
    "    test = df[df.Date >= datetime(year=2015, month=10, day=1)]\n",
    "    train = train.dropna(axis=0)\n",
    "    test = test.dropna(axis=0)\n",
    "\n",
    "    target_cols = 'Close'\n",
    "\n",
    "    min_max=preprocessing.MinMaxScaler()\n",
    "    X_train = train[features]\n",
    "    y_train = train[target_cols]\n",
    "    X_test = test[features]\n",
    "    y_test = test[target_cols]\n",
    "    \n",
    "    X_train = min_max.fit_transform(X_train)\n",
    "    # Create linear regression object\n",
    "    model = LinearRegression()\n",
    "    # Train the model using the training sets\n",
    "    model.fit(X_train, y_train)\n",
    "\n",
    "    # Make predictions using the testing set\n",
    "    y_pred = model.predict(X_test)\n",
    "\n",
    "    # The results\n",
    "    print(\"Mean absolute error: %.2f\"\n",
    "          % mean_absolute_error(y_test, y_pred))\n",
    "    return test, y_pred"
   ]
  },
  {
   "cell_type": "code",
   "execution_count": 39,
   "metadata": {
    "collapsed": false
   },
   "outputs": [],
   "source": [
    "def model_results(test, predictions, money):\n",
    "    test['close_prediction'] = predictions\n",
    "    test['Signal'] = np.where(test['close_prediction'] > test['Open'], 1, 0)\n",
    "    backtest = test[['Date','Open','Close','Signal']]\n",
    "    trades = backtest[backtest['Signal'] == 1]\n",
    "    trades['Dollar Change'] = trades['Close'] - trades['Open']\n",
    "    trades['Percent Change'] = (trades['Close'] / trades['Open']) - 1\n",
    "    \n",
    "    percent_trades = trades.shape[0]/test.shape[0]\n",
    "    success = trades[trades['Dollar Change'] > 0].count().tolist()\n",
    "    accuracy = success[0]/trades.shape[0]\n",
    "\n",
    "    start_money = money\n",
    "\n",
    "    for index, row in trades.iterrows():\n",
    "        percent_change = row[2] / row[1]\n",
    "        money = money * percent_change\n",
    "    \n",
    "    change = ((money/start_money)-1) * 100\n",
    "    \n",
    "    hodl_change = ((test['Open'].max()/test['Open'].min())-1)*100\n",
    "    \n",
    "    strat_vs_hodl = change - hodl_change\n",
    "    \n",
    "    print('You startd with {}'.format(start_money))\n",
    "    print('You ended with {}'.format(money))\n",
    "    print('You strategy resulted in {}% change'.format(change))\n",
    "    print('The perfect hodl would have resulted in: {}% Change'.format(hodl_change))\n",
    "    print('Your strategy perfomed {} compared to HODL'.format(strat_vs_hodl))\n",
    "    print('********')\n",
    "    print('Total trades made: {}'.format(trades.shape[0]))\n",
    "    print('Total winning trades: {}'.format(success[0]))\n",
    "    print('Total losing trades: {}'.format(trades.shape[0] - success[0]))\n",
    "    print('Trading accuracy {}'.format(accuracy))"
   ]
  },
  {
   "cell_type": "code",
   "execution_count": 40,
   "metadata": {
    "collapsed": true
   },
   "outputs": [],
   "source": [
    "money = 10000"
   ]
  },
  {
   "cell_type": "code",
   "execution_count": 41,
   "metadata": {
    "collapsed": true
   },
   "outputs": [],
   "source": [
    "## 5 Day MA"
   ]
  },
  {
   "cell_type": "code",
   "execution_count": 44,
   "metadata": {
    "collapsed": false
   },
   "outputs": [
    {
     "data": {
      "text/html": [
       "<div>\n",
       "<style scoped>\n",
       "    .dataframe tbody tr th:only-of-type {\n",
       "        vertical-align: middle;\n",
       "    }\n",
       "\n",
       "    .dataframe tbody tr th {\n",
       "        vertical-align: top;\n",
       "    }\n",
       "\n",
       "    .dataframe thead th {\n",
       "        text-align: right;\n",
       "    }\n",
       "</style>\n",
       "<table border=\"1\" class=\"dataframe\">\n",
       "  <thead>\n",
       "    <tr style=\"text-align: right;\">\n",
       "      <th></th>\n",
       "      <th>Date</th>\n",
       "      <th>Open</th>\n",
       "      <th>High</th>\n",
       "      <th>Low</th>\n",
       "      <th>Close</th>\n",
       "      <th>Volume</th>\n",
       "      <th>Adj Close</th>\n",
       "      <th>Close MA</th>\n",
       "      <th>Volume MA</th>\n",
       "      <th>close_prediction</th>\n",
       "      <th>Signal</th>\n",
       "    </tr>\n",
       "  </thead>\n",
       "  <tbody>\n",
       "    <tr>\n",
       "      <th>46</th>\n",
       "      <td>2015-10-01</td>\n",
       "      <td>1919.650024</td>\n",
       "      <td>1927.209961</td>\n",
       "      <td>1900.699951</td>\n",
       "      <td>1923.819946</td>\n",
       "      <td>3.983600e+09</td>\n",
       "      <td>1923.819946</td>\n",
       "      <td>1945.729338</td>\n",
       "      <td>3.865756e+09</td>\n",
       "      <td>-2.859127e+10</td>\n",
       "      <td>0</td>\n",
       "    </tr>\n",
       "    <tr>\n",
       "      <th>45</th>\n",
       "      <td>2015-10-02</td>\n",
       "      <td>1921.770020</td>\n",
       "      <td>1951.359985</td>\n",
       "      <td>1893.699951</td>\n",
       "      <td>1951.359985</td>\n",
       "      <td>4.378570e+09</td>\n",
       "      <td>1951.359985</td>\n",
       "      <td>1943.831331</td>\n",
       "      <td>3.889575e+09</td>\n",
       "      <td>-2.876746e+10</td>\n",
       "      <td>0</td>\n",
       "    </tr>\n",
       "    <tr>\n",
       "      <th>44</th>\n",
       "      <td>2015-10-05</td>\n",
       "      <td>1954.329956</td>\n",
       "      <td>1989.170044</td>\n",
       "      <td>1954.329956</td>\n",
       "      <td>1987.050049</td>\n",
       "      <td>4.334490e+09</td>\n",
       "      <td>1987.050049</td>\n",
       "      <td>1943.185327</td>\n",
       "      <td>3.966907e+09</td>\n",
       "      <td>-2.933950e+10</td>\n",
       "      <td>0</td>\n",
       "    </tr>\n",
       "    <tr>\n",
       "      <th>43</th>\n",
       "      <td>2015-10-06</td>\n",
       "      <td>1986.630005</td>\n",
       "      <td>1991.619995</td>\n",
       "      <td>1971.989990</td>\n",
       "      <td>1979.920044</td>\n",
       "      <td>4.202400e+09</td>\n",
       "      <td>1979.920044</td>\n",
       "      <td>1945.453328</td>\n",
       "      <td>4.055859e+09</td>\n",
       "      <td>-2.999748e+10</td>\n",
       "      <td>0</td>\n",
       "    </tr>\n",
       "    <tr>\n",
       "      <th>42</th>\n",
       "      <td>2015-10-07</td>\n",
       "      <td>1982.339966</td>\n",
       "      <td>1999.310059</td>\n",
       "      <td>1976.439941</td>\n",
       "      <td>1995.829956</td>\n",
       "      <td>4.666470e+09</td>\n",
       "      <td>1995.829956</td>\n",
       "      <td>1945.575334</td>\n",
       "      <td>4.120029e+09</td>\n",
       "      <td>-3.047215e+10</td>\n",
       "      <td>0</td>\n",
       "    </tr>\n",
       "  </tbody>\n",
       "</table>\n",
       "</div>"
      ],
      "text/plain": [
       "         Date         Open         High          Low        Close  \\\n",
       "46 2015-10-01  1919.650024  1927.209961  1900.699951  1923.819946   \n",
       "45 2015-10-02  1921.770020  1951.359985  1893.699951  1951.359985   \n",
       "44 2015-10-05  1954.329956  1989.170044  1954.329956  1987.050049   \n",
       "43 2015-10-06  1986.630005  1991.619995  1971.989990  1979.920044   \n",
       "42 2015-10-07  1982.339966  1999.310059  1976.439941  1995.829956   \n",
       "\n",
       "          Volume    Adj Close     Close MA     Volume MA  close_prediction  \\\n",
       "46  3.983600e+09  1923.819946  1945.729338  3.865756e+09     -2.859127e+10   \n",
       "45  4.378570e+09  1951.359985  1943.831331  3.889575e+09     -2.876746e+10   \n",
       "44  4.334490e+09  1987.050049  1943.185327  3.966907e+09     -2.933950e+10   \n",
       "43  4.202400e+09  1979.920044  1945.453328  4.055859e+09     -2.999748e+10   \n",
       "42  4.666470e+09  1995.829956  1945.575334  4.120029e+09     -3.047215e+10   \n",
       "\n",
       "    Signal  \n",
       "46       0  \n",
       "45       0  \n",
       "44       0  \n",
       "43       0  \n",
       "42       0  "
      ]
     },
     "execution_count": 44,
     "metadata": {},
     "output_type": "execute_result"
    }
   ],
   "source": [
    "test_df.head()"
   ]
  },
  {
   "cell_type": "code",
   "execution_count": 42,
   "metadata": {
    "collapsed": false
   },
   "outputs": [
    {
     "name": "stdout",
     "output_type": "stream",
     "text": [
      "Mean absolute error: 28971156350.46\n"
     ]
    },
    {
     "ename": "ZeroDivisionError",
     "evalue": "division by zero",
     "output_type": "error",
     "traceback": [
      "\u001b[0;31m---------------------------------------------------------------------------\u001b[0m",
      "\u001b[0;31mZeroDivisionError\u001b[0m                         Traceback (most recent call last)",
      "\u001b[0;32m<ipython-input-42-2367fdcc4b8f>\u001b[0m in \u001b[0;36m<module>\u001b[0;34m()\u001b[0m\n\u001b[1;32m      2\u001b[0m \u001b[0mdata\u001b[0m\u001b[0;34m,\u001b[0m \u001b[0mfeatures\u001b[0m \u001b[0;34m=\u001b[0m \u001b[0mcreate_features\u001b[0m\u001b[0;34m(\u001b[0m\u001b[0mdf\u001b[0m\u001b[0;34m,\u001b[0m \u001b[0mma\u001b[0m\u001b[0;34m)\u001b[0m\u001b[0;34m\u001b[0m\u001b[0m\n\u001b[1;32m      3\u001b[0m \u001b[0mtest_df\u001b[0m\u001b[0;34m,\u001b[0m \u001b[0mpredictions\u001b[0m \u001b[0;34m=\u001b[0m \u001b[0mtrain_model\u001b[0m\u001b[0;34m(\u001b[0m\u001b[0mdata\u001b[0m\u001b[0;34m,\u001b[0m \u001b[0mfeatures\u001b[0m\u001b[0;34m)\u001b[0m\u001b[0;34m\u001b[0m\u001b[0m\n\u001b[0;32m----> 4\u001b[0;31m \u001b[0mmodel_results\u001b[0m\u001b[0;34m(\u001b[0m\u001b[0mtest_df\u001b[0m\u001b[0;34m,\u001b[0m \u001b[0mpredictions\u001b[0m\u001b[0;34m,\u001b[0m\u001b[0mmoney\u001b[0m\u001b[0;34m)\u001b[0m\u001b[0;34m\u001b[0m\u001b[0m\n\u001b[0m",
      "\u001b[0;32m<ipython-input-39-ebb524aa66dd>\u001b[0m in \u001b[0;36mmodel_results\u001b[0;34m(test, predictions, money)\u001b[0m\n\u001b[1;32m      9\u001b[0m     \u001b[0mpercent_trades\u001b[0m \u001b[0;34m=\u001b[0m \u001b[0mtrades\u001b[0m\u001b[0;34m.\u001b[0m\u001b[0mshape\u001b[0m\u001b[0;34m[\u001b[0m\u001b[0;36m0\u001b[0m\u001b[0;34m]\u001b[0m\u001b[0;34m/\u001b[0m\u001b[0mtest\u001b[0m\u001b[0;34m.\u001b[0m\u001b[0mshape\u001b[0m\u001b[0;34m[\u001b[0m\u001b[0;36m0\u001b[0m\u001b[0;34m]\u001b[0m\u001b[0;34m\u001b[0m\u001b[0m\n\u001b[1;32m     10\u001b[0m     \u001b[0msuccess\u001b[0m \u001b[0;34m=\u001b[0m \u001b[0mtrades\u001b[0m\u001b[0;34m[\u001b[0m\u001b[0mtrades\u001b[0m\u001b[0;34m[\u001b[0m\u001b[0;34m'Dollar Change'\u001b[0m\u001b[0;34m]\u001b[0m \u001b[0;34m>\u001b[0m \u001b[0;36m0\u001b[0m\u001b[0;34m]\u001b[0m\u001b[0;34m.\u001b[0m\u001b[0mcount\u001b[0m\u001b[0;34m(\u001b[0m\u001b[0;34m)\u001b[0m\u001b[0;34m.\u001b[0m\u001b[0mtolist\u001b[0m\u001b[0;34m(\u001b[0m\u001b[0;34m)\u001b[0m\u001b[0;34m\u001b[0m\u001b[0m\n\u001b[0;32m---> 11\u001b[0;31m     \u001b[0maccuracy\u001b[0m \u001b[0;34m=\u001b[0m \u001b[0msuccess\u001b[0m\u001b[0;34m[\u001b[0m\u001b[0;36m0\u001b[0m\u001b[0;34m]\u001b[0m\u001b[0;34m/\u001b[0m\u001b[0mtrades\u001b[0m\u001b[0;34m.\u001b[0m\u001b[0mshape\u001b[0m\u001b[0;34m[\u001b[0m\u001b[0;36m0\u001b[0m\u001b[0;34m]\u001b[0m\u001b[0;34m\u001b[0m\u001b[0m\n\u001b[0m\u001b[1;32m     12\u001b[0m \u001b[0;34m\u001b[0m\u001b[0m\n\u001b[1;32m     13\u001b[0m     \u001b[0mstart_money\u001b[0m \u001b[0;34m=\u001b[0m \u001b[0mmoney\u001b[0m\u001b[0;34m\u001b[0m\u001b[0m\n",
      "\u001b[0;31mZeroDivisionError\u001b[0m: division by zero"
     ]
    }
   ],
   "source": [
    "ma = 15\n",
    "data, features = create_features(df, ma)\n",
    "test_df, predictions = train_model(data, features)\n",
    "model_results(test_df, predictions,money)"
   ]
  },
  {
   "cell_type": "code",
   "execution_count": 14,
   "metadata": {
    "collapsed": true
   },
   "outputs": [],
   "source": [
    "## 15 Day MA"
   ]
  },
  {
   "cell_type": "code",
   "execution_count": 15,
   "metadata": {
    "collapsed": false
   },
   "outputs": [
    {
     "name": "stdout",
     "output_type": "stream",
     "text": [
      "Mean absolute error: 32.34\n",
      "You startd with 10000\n",
      "You ended with 10415.189161968601\n",
      "You strategy resulted in 4.15189161968601% change\n",
      "The perfect hodl would have resulted in: 9.947129508644226% Change\n",
      "Your strategy perfomed -5.795237888958216 compared to HODL\n",
      "********\n",
      "Total trades made: 10\n",
      "Total winning trades: 6\n",
      "Total losing trades: 4\n",
      "Trading accuracy 0.6\n"
     ]
    }
   ],
   "source": [
    "ma = 15\n",
    "data, features = create_features(df, ma)\n",
    "test_df, predictions = train_model(data, features)\n",
    "model_results(test_df, predictions, money)"
   ]
  },
  {
   "cell_type": "code",
   "execution_count": 222,
   "metadata": {
    "collapsed": true
   },
   "outputs": [],
   "source": [
    "## 30 Day MA"
   ]
  },
  {
   "cell_type": "code",
   "execution_count": 223,
   "metadata": {
    "collapsed": false
   },
   "outputs": [
    {
     "name": "stdout",
     "output_type": "stream",
     "text": [
      "Mean absolute error: 44.39\n",
      "You startd with 10000\n",
      "You ended with 10410.960582855516\n",
      "You strategy resulted in 4.109605828555152% change\n",
      "The perfect hodl would have resulted in: 9.947129508644226% Change\n",
      "Your strategy perfomed -5.837523680089074 compared to HODL\n",
      "********\n",
      "Total trades made: 8\n",
      "Total winning trades: 5\n",
      "Total losing trades: 3\n",
      "Trading accuracy 0.625\n"
     ]
    }
   ],
   "source": [
    "ma = 30\n",
    "data, features = create_features(df, ma)\n",
    "test_df, predictions = train_model(data, features)\n",
    "model_results(test_df, predictions, money)"
   ]
  },
  {
   "cell_type": "code",
   "execution_count": 224,
   "metadata": {
    "collapsed": true
   },
   "outputs": [],
   "source": [
    "## 55 Day MA"
   ]
  },
  {
   "cell_type": "code",
   "execution_count": 225,
   "metadata": {
    "collapsed": false
   },
   "outputs": [
    {
     "name": "stdout",
     "output_type": "stream",
     "text": [
      "Mean absolute error: 52.61\n",
      "You startd with 10000\n",
      "You ended with 10582.681181925884\n",
      "You strategy resulted in 5.826811819258837% change\n",
      "The perfect hodl would have resulted in: 9.947129508644226% Change\n",
      "Your strategy perfomed -4.120317689385389 compared to HODL\n",
      "********\n",
      "Total trades made: 9\n",
      "Total winning trades: 7\n",
      "Total losing trades: 2\n",
      "Trading accuracy 0.7777777777777778\n"
     ]
    }
   ],
   "source": [
    "ma = 55\n",
    "data, features = create_features(df, ma)\n",
    "test_df, predictions = train_model(data, features)\n",
    "model_results(test_df, predictions, money)"
   ]
  },
  {
   "cell_type": "code",
   "execution_count": 226,
   "metadata": {
    "collapsed": true
   },
   "outputs": [],
   "source": [
    "## 365 Day MA"
   ]
  },
  {
   "cell_type": "code",
   "execution_count": 227,
   "metadata": {
    "collapsed": false
   },
   "outputs": [
    {
     "name": "stdout",
     "output_type": "stream",
     "text": [
      "Mean absolute error: 62.96\n",
      "You startd with 10000\n",
      "You ended with 10787.722740853054\n",
      "You strategy resulted in 7.8772274085305405% change\n",
      "The perfect hodl would have resulted in: 9.947129508644226% Change\n",
      "Your strategy perfomed -2.0699021001136853 compared to HODL\n",
      "********\n",
      "Total trades made: 47\n",
      "Total winning trades: 25\n",
      "Total losing trades: 22\n",
      "Trading accuracy 0.5319148936170213\n"
     ]
    }
   ],
   "source": [
    "ma = 365\n",
    "data, features = create_features(df, ma)\n",
    "test_df, predictions = train_model(data, features)\n",
    "model_results(test_df, predictions, money)"
   ]
  },
  {
   "cell_type": "code",
   "execution_count": 228,
   "metadata": {
    "collapsed": false
   },
   "outputs": [
    {
     "name": "stdout",
     "output_type": "stream",
     "text": [
      "Mean absolute error: 13.58\n",
      "You startd with 10000\n",
      "You ended with 9820.109340817316\n",
      "You strategy resulted in -1.798906591826832% change\n",
      "The perfect hodl would have resulted in: 9.947129508644226% Change\n",
      "Your strategy perfomed -11.746036100471057 compared to HODL\n",
      "********\n",
      "Total trades made: 26\n",
      "Total winning trades: 11\n",
      "Total losing trades: 15\n",
      "Trading accuracy 0.4230769230769231\n"
     ]
    }
   ],
   "source": [
    "ma = 1\n",
    "data, features = create_features(df, ma)\n",
    "test_df, predictions = train_model(data, features)\n",
    "model_results(test_df, predictions, money)"
   ]
  },
  {
   "cell_type": "code",
   "execution_count": null,
   "metadata": {
    "collapsed": true
   },
   "outputs": [],
   "source": []
  },
  {
   "cell_type": "code",
   "execution_count": null,
   "metadata": {
    "collapsed": true
   },
   "outputs": [],
   "source": []
  },
  {
   "cell_type": "code",
   "execution_count": null,
   "metadata": {
    "collapsed": true
   },
   "outputs": [],
   "source": []
  }
 ],
 "metadata": {
  "kernelspec": {
   "display_name": "Python 3",
   "language": "python",
   "name": "python3"
  },
  "language_info": {
   "codemirror_mode": {
    "name": "ipython",
    "version": 3
   },
   "file_extension": ".py",
   "mimetype": "text/x-python",
   "name": "python",
   "nbconvert_exporter": "python",
   "pygments_lexer": "ipython3",
   "version": "3.6.4"
  }
 },
 "nbformat": 4,
 "nbformat_minor": 2
}
